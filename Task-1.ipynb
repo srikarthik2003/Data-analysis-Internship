{
 "cells": [
  {
   "cell_type": "code",
   "execution_count": 2,
   "id": "2b822dac",
   "metadata": {
    "scrolled": true
   },
   "outputs": [
    {
     "name": "stdout",
     "output_type": "stream",
     "text": [
      "updated_list: [10, 3, 4, 6]\n"
     ]
    }
   ],
   "source": [
    "my_list=[1,2,3,4]\n",
    "my_list.append(6)\n",
    "my_list.remove(2)\n",
    "my_list[0]=10\n",
    "print(f\"updated_list: {my_list}\")"
   ]
  },
  {
   "cell_type": "code",
   "execution_count": 4,
   "id": "01a64134",
   "metadata": {},
   "outputs": [
    {
     "name": "stdout",
     "output_type": "stream",
     "text": [
      "updated_dictionary: {'name': 'karthik', 'city': 'Hyd', 'gender': 'male'}\n"
     ]
    }
   ],
   "source": [
    "my_dict={\"name\":\"karthik\",\"age\":20,\"city\":\"Hyderabad\"}\n",
    "my_dict[\"gender\"]=\"male\"\n",
    "del my_dict[\"age\"]\n",
    "my_dict[\"city\"]=\"Hyd\"\n",
    "print(f\"updated_dictionary: {my_dict}\")"
   ]
  },
  {
   "cell_type": "code",
   "execution_count": 5,
   "id": "0884d500",
   "metadata": {},
   "outputs": [
    {
     "name": "stdout",
     "output_type": "stream",
     "text": [
      "updated_set: {3, 4, 5, 6, 10}\n"
     ]
    }
   ],
   "source": [
    "my_set={1,2,3,4,5}\n",
    "my_set.remove(2)\n",
    "my_set.add(6)\n",
    "my_set.discard(1)\n",
    "my_set.add(10)\n",
    "print(f\"updated_set: {my_set}\")"
   ]
  }
 ],
 "metadata": {
  "kernelspec": {
   "display_name": "Python 3 (ipykernel)",
   "language": "python",
   "name": "python3"
  },
  "language_info": {
   "codemirror_mode": {
    "name": "ipython",
    "version": 3
   },
   "file_extension": ".py",
   "mimetype": "text/x-python",
   "name": "python",
   "nbconvert_exporter": "python",
   "pygments_lexer": "ipython3",
   "version": "3.11.7"
  }
 },
 "nbformat": 4,
 "nbformat_minor": 5
}
